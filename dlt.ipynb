{
 "cells": [
  {
   "cell_type": "code",
   "execution_count": 3,
   "id": "0e6d0b5d-a504-4584-bc2b-cbc68ffd01d9",
   "metadata": {},
   "outputs": [
    {
     "name": "stdout",
     "output_type": "stream",
     "text": [
      "1.15.0\n"
     ]
    }
   ],
   "source": [
    "import dlt\n",
    "print(dlt.__version__)"
   ]
  },
  {
   "cell_type": "code",
   "execution_count": 19,
   "id": "9f2a6092-dacb-4f04-95ab-e6a1dc6f4319",
   "metadata": {},
   "outputs": [],
   "source": [
    "import requests"
   ]
  },
  {
   "cell_type": "code",
   "execution_count": 21,
   "id": "8f866417-b369-4e06-acd6-c832e074c1e5",
   "metadata": {},
   "outputs": [],
   "source": [
    "@dlt.resource\n",
    "\n",
    "def zoomcamp_data():\n",
    "    docs_url = 'https://github.com/alexeygrigorev/llm-rag-workshop/raw/main/notebooks/documents.json'\n",
    "    docs_response = requests.get(docs_url)\n",
    "    documents_raw = docs_response.json()\n",
    "\n",
    "    for course in documents_raw:\n",
    "        course_name = course['course']\n",
    "\n",
    "        for doc in course['documents']:\n",
    "            doc['course'] = course_name\n",
    "            yield doc"
   ]
  },
  {
   "cell_type": "code",
   "execution_count": 23,
   "id": "f58fa498-e2b2-4dd1-8f7b-bb2e5b6e1da4",
   "metadata": {},
   "outputs": [],
   "source": [
    "from dlt.destinations import qdrant\n",
    "\n",
    "qdrant_destination = qdrant(\n",
    "  qd_path=\"db.qdrant\", \n",
    ")"
   ]
  },
  {
   "cell_type": "code",
   "execution_count": 25,
   "id": "5a746d3e-ebc2-4d5c-8cab-80e7eec4e60f",
   "metadata": {},
   "outputs": [
    {
     "name": "stdout",
     "output_type": "stream",
     "text": [
      "Run started at 2025-08-18 15:42:30.036616+00:00 and COMPLETED in 10.64 seconds with 4 steps.\n",
      "Step extract COMPLETED in 4.15 seconds.\n",
      "\n",
      "Load package 1755531751.098026 is EXTRACTED and NOT YET LOADED to the destination and contains no failed jobs\n",
      "\n",
      "Step normalize COMPLETED in 0.04 seconds.\n",
      "Normalized data for the following tables:\n",
      "- zoomcamp_data: 948 row(s)\n",
      "- _dlt_pipeline_state: 1 row(s)\n",
      "\n",
      "Load package 1755531751.098026 is NORMALIZED and NOT YET LOADED to the destination and contains no failed jobs\n",
      "\n",
      "Step load COMPLETED in 5.39 seconds.\n",
      "Pipeline zoomcamp_pipeline load step completed in 5.39 seconds\n",
      "1 load package(s) were loaded to destination qdrant and into dataset zoomcamp_tagged_data\n",
      "The qdrant destination used /Users/xuezhiming/Desktop/Learnings/LLM zoomcamp/db.qdrant location to store data\n",
      "Load package 1755531751.098026 is LOADED and contains no failed jobs\n",
      "\n",
      "Step run COMPLETED in 10.64 seconds.\n",
      "Pipeline zoomcamp_pipeline load step completed in 5.39 seconds\n",
      "1 load package(s) were loaded to destination qdrant and into dataset zoomcamp_tagged_data\n",
      "The qdrant destination used /Users/xuezhiming/Desktop/Learnings/LLM zoomcamp/db.qdrant location to store data\n",
      "Load package 1755531751.098026 is LOADED and contains no failed jobs\n"
     ]
    }
   ],
   "source": [
    "pipeline = dlt.pipeline(\n",
    "    pipeline_name=\"zoomcamp_pipeline\",\n",
    "    destination=qdrant_destination,\n",
    "    dataset_name=\"zoomcamp_tagged_data\"\n",
    "\n",
    ")\n",
    "load_info = pipeline.run(zoomcamp_data())\n",
    "print(pipeline.last_trace)"
   ]
  },
  {
   "cell_type": "code",
   "execution_count": 33,
   "id": "a5b6c9f6-29ea-4aba-bc07-8e4a96316bfe",
   "metadata": {},
   "outputs": [
    {
     "data": {
      "text/plain": [
       "{'collections': {'zoomcamp_tagged_data': {'vectors': {'fast-bge-small-en': {'size': 384,\n",
       "     'distance': 'Cosine',\n",
       "     'hnsw_config': None,\n",
       "     'quantization_config': None,\n",
       "     'on_disk': None,\n",
       "     'datatype': None,\n",
       "     'multivector_config': None}},\n",
       "   'shard_number': None,\n",
       "   'sharding_method': None,\n",
       "   'replication_factor': None,\n",
       "   'write_consistency_factor': None,\n",
       "   'on_disk_payload': None,\n",
       "   'hnsw_config': None,\n",
       "   'wal_config': None,\n",
       "   'optimizers_config': None,\n",
       "   'init_from': None,\n",
       "   'quantization_config': None,\n",
       "   'sparse_vectors': None,\n",
       "   'strict_mode_config': None},\n",
       "  'zoomcamp_tagged_data__dlt_loads': {'vectors': {'fast-bge-small-en': {'size': 384,\n",
       "     'distance': 'Cosine',\n",
       "     'hnsw_config': None,\n",
       "     'quantization_config': None,\n",
       "     'on_disk': None,\n",
       "     'datatype': None,\n",
       "     'multivector_config': None}},\n",
       "   'shard_number': None,\n",
       "   'sharding_method': None,\n",
       "   'replication_factor': None,\n",
       "   'write_consistency_factor': None,\n",
       "   'on_disk_payload': None,\n",
       "   'hnsw_config': None,\n",
       "   'wal_config': None,\n",
       "   'optimizers_config': None,\n",
       "   'init_from': None,\n",
       "   'quantization_config': None,\n",
       "   'sparse_vectors': None,\n",
       "   'strict_mode_config': None},\n",
       "  'zoomcamp_tagged_data__dlt_pipeline_state': {'vectors': {'fast-bge-small-en': {'size': 384,\n",
       "     'distance': 'Cosine',\n",
       "     'hnsw_config': None,\n",
       "     'quantization_config': None,\n",
       "     'on_disk': None,\n",
       "     'datatype': None,\n",
       "     'multivector_config': None}},\n",
       "   'shard_number': None,\n",
       "   'sharding_method': None,\n",
       "   'replication_factor': None,\n",
       "   'write_consistency_factor': None,\n",
       "   'on_disk_payload': None,\n",
       "   'hnsw_config': None,\n",
       "   'wal_config': None,\n",
       "   'optimizers_config': None,\n",
       "   'init_from': None,\n",
       "   'quantization_config': None,\n",
       "   'sparse_vectors': None,\n",
       "   'strict_mode_config': None},\n",
       "  'zoomcamp_tagged_data__dlt_version': {'vectors': {'fast-bge-small-en': {'size': 384,\n",
       "     'distance': 'Cosine',\n",
       "     'hnsw_config': None,\n",
       "     'quantization_config': None,\n",
       "     'on_disk': None,\n",
       "     'datatype': None,\n",
       "     'multivector_config': None}},\n",
       "   'shard_number': None,\n",
       "   'sharding_method': None,\n",
       "   'replication_factor': None,\n",
       "   'write_consistency_factor': None,\n",
       "   'on_disk_payload': None,\n",
       "   'hnsw_config': None,\n",
       "   'wal_config': None,\n",
       "   'optimizers_config': None,\n",
       "   'init_from': None,\n",
       "   'quantization_config': None,\n",
       "   'sparse_vectors': None,\n",
       "   'strict_mode_config': None},\n",
       "  'zoomcamp_tagged_data_zoomcamp_data': {'vectors': {'fast-bge-small-en': {'size': 384,\n",
       "     'distance': 'Cosine',\n",
       "     'hnsw_config': None,\n",
       "     'quantization_config': None,\n",
       "     'on_disk': None,\n",
       "     'datatype': None,\n",
       "     'multivector_config': None}},\n",
       "   'shard_number': None,\n",
       "   'sharding_method': None,\n",
       "   'replication_factor': None,\n",
       "   'write_consistency_factor': None,\n",
       "   'on_disk_payload': None,\n",
       "   'hnsw_config': None,\n",
       "   'wal_config': None,\n",
       "   'optimizers_config': None,\n",
       "   'init_from': None,\n",
       "   'quantization_config': None,\n",
       "   'sparse_vectors': None,\n",
       "   'strict_mode_config': None}},\n",
       " 'aliases': {}}"
      ]
     },
     "execution_count": 33,
     "metadata": {},
     "output_type": "execute_result"
    }
   ],
   "source": [
    "import json\n",
    "\n",
    "with open('db.qdrant/meta.json','r') as file:\n",
    "    embedding = json.load(file)\n",
    "\n",
    "embedding"
   ]
  }
 ],
 "metadata": {
  "kernelspec": {
   "display_name": "Python [conda env:base] *",
   "language": "python",
   "name": "conda-base-py"
  },
  "language_info": {
   "codemirror_mode": {
    "name": "ipython",
    "version": 3
   },
   "file_extension": ".py",
   "mimetype": "text/x-python",
   "name": "python",
   "nbconvert_exporter": "python",
   "pygments_lexer": "ipython3",
   "version": "3.11.13"
  }
 },
 "nbformat": 4,
 "nbformat_minor": 5
}
